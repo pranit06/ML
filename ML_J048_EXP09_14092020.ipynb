{
  "nbformat": 4,
  "nbformat_minor": 0,
  "metadata": {
    "colab": {
      "name": "ML_J048_EXP09_14092020.ipynb",
      "provenance": [],
      "include_colab_link": true
    },
    "kernelspec": {
      "name": "python3",
      "display_name": "Python 3"
    }
  },
  "cells": [
    {
      "cell_type": "markdown",
      "metadata": {
        "id": "view-in-github",
        "colab_type": "text"
      },
      "source": [
        "<a href=\"https://colab.research.google.com/github/pranit06/ML/blob/master/ML_J048_EXP09_14092020.ipynb\" target=\"_parent\"><img src=\"https://colab.research.google.com/assets/colab-badge.svg\" alt=\"Open In Colab\"/></a>"
      ]
    },
    {
      "cell_type": "markdown",
      "metadata": {
        "id": "YMRCececGxU2"
      },
      "source": [
        "## Blood Transfusion Service"
      ]
    },
    {
      "cell_type": "code",
      "metadata": {
        "id": "UyEMiT6wGsJt"
      },
      "source": [
        "import numpy as np\n",
        "import pandas as pd \n",
        "from keras.utils import np_utils\n",
        "from sklearn.preprocessing import StandardScaler\n",
        "from sklearn.model_selection import train_test_split\n",
        "from sklearn.ensemble import RandomForestClassifier\n",
        "import pickle\n",
        "import os"
      ],
      "execution_count": null,
      "outputs": []
    },
    {
      "cell_type": "code",
      "metadata": {
        "id": "wjRkIBjOHl2x"
      },
      "source": [
        "df = pd.read_csv(\"BTS.csv\")\n",
        "df.head()"
      ],
      "execution_count": null,
      "outputs": []
    },
    {
      "cell_type": "code",
      "metadata": {
        "id": "qUrs8xCTHzzn"
      },
      "source": [
        "df = df.dropna(how='all')"
      ],
      "execution_count": null,
      "outputs": []
    },
    {
      "cell_type": "code",
      "metadata": {
        "id": "lzg6oriwHz5F"
      },
      "source": [
        "df[\"Class\"].value_counts()"
      ],
      "execution_count": null,
      "outputs": []
    },
    {
      "cell_type": "code",
      "metadata": {
        "id": "K3fdXz6-H5jy"
      },
      "source": [
        "from sklearn.utils import resample\n",
        "\n",
        "df_majority = df[df.Class==2]\n",
        "df_minority = df[df.Class==1]\n",
        "\n",
        "# Upsample minority class\n",
        "df_minority_upsampled = resample(df_minority, \n",
        "                                 replace=True,     # sample with replacement\n",
        "                                 n_samples=178,    # to match majority class\n",
        "                                 random_state=42) # reproducible results\n",
        "\n",
        "# Combine majority class with upsampled minority class\n",
        "df = pd.concat([df_majority, df_minority_upsampled])\n",
        "\n",
        "# Display new class counts\n",
        "df.Class.value_counts()"
      ],
      "execution_count": null,
      "outputs": []
    },
    {
      "cell_type": "code",
      "metadata": {
        "id": "naB7hNaHH5mq"
      },
      "source": [
        "df[\"Class\"].value_counts()"
      ],
      "execution_count": null,
      "outputs": []
    },
    {
      "cell_type": "code",
      "metadata": {
        "id": "dvJIaTqGH5pf"
      },
      "source": [
        "X = df.drop(['Class'], axis=1).values\n",
        "#X = StandardScaler().fit_transform(X)\n",
        "Y = df['Class']"
      ],
      "execution_count": null,
      "outputs": []
    },
    {
      "cell_type": "code",
      "metadata": {
        "id": "NExMBWdDH5sD"
      },
      "source": [
        "X_Train, X_Test, Y_Train, Y_Test = train_test_split(X, Y, test_size = 0.30, random_state = 101)"
      ],
      "execution_count": null,
      "outputs": []
    },
    {
      "cell_type": "code",
      "metadata": {
        "id": "H0DduwGcH5vE"
      },
      "source": [
        "trainedforest = RandomForestClassifier(n_estimators=700).fit(X_Train,Y_Train)\n",
        "predictionforest = trainedforest.predict(X_Test)\n",
        "trainedforest.score(X_Train, Y_Train)"
      ],
      "execution_count": null,
      "outputs": []
    },
    {
      "cell_type": "code",
      "metadata": {
        "id": "qr0QwWf-H5x6"
      },
      "source": [
        "trainedforest = RandomForestClassifier(n_estimators=700).fit(X,Y)"
      ],
      "execution_count": null,
      "outputs": []
    },
    {
      "cell_type": "code",
      "metadata": {
        "id": "NhNqMnprIHWZ"
      },
      "source": [
        "# Saving model to disk\n",
        "pickle.dump(trainedforest, open('model.pkl','wb'))"
      ],
      "execution_count": null,
      "outputs": []
    },
    {
      "cell_type": "code",
      "metadata": {
        "id": "bxyxm9Q7IHaw"
      },
      "source": [
        "# Loading model to compare the results\n",
        "model = pickle.load(open('model.pkl','rb'))"
      ],
      "execution_count": null,
      "outputs": []
    },
    {
      "cell_type": "code",
      "metadata": {
        "id": "4EU0ePPCIHd7"
      },
      "source": [
        "print(model.predict([[2,  430, 10350,  86]]))"
      ],
      "execution_count": null,
      "outputs": []
    },
    {
      "cell_type": "code",
      "metadata": {
        "id": "OmV4i3obIHhy"
      },
      "source": [
        "p = model.predict(X_Test)\n",
        "#print(X_Test)\n",
        "print(list(p).count(1))\n",
        "print(list(p).count(2))"
      ],
      "execution_count": null,
      "outputs": []
    }
  ]
}