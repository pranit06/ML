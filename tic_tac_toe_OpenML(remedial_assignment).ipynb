{
  "nbformat": 4,
  "nbformat_minor": 0,
  "metadata": {
    "colab": {
      "name": "tic_tac_toe_OpenML(remedial assignment).ipynb",
      "provenance": [],
      "collapsed_sections": [],
      "include_colab_link": true
    },
    "kernelspec": {
      "name": "python3",
      "display_name": "Python 3"
    }
  },
  "cells": [
    {
      "cell_type": "markdown",
      "metadata": {
        "id": "view-in-github",
        "colab_type": "text"
      },
      "source": [
        "<a href=\"https://colab.research.google.com/github/pranit06/ML/blob/master/tic_tac_toe_OpenML(remedial_assignment).ipynb\" target=\"_parent\"><img src=\"https://colab.research.google.com/assets/colab-badge.svg\" alt=\"Open In Colab\"/></a>"
      ]
    },
    {
      "cell_type": "code",
      "metadata": {
        "id": "37qQSshhfeXx",
        "outputId": "c7357e2b-264d-4c0b-c431-388c348dac98",
        "colab": {
          "base_uri": "https://localhost:8080/"
        }
      },
      "source": [
        "!pip install -i https://test.pypi.org/simple/ all-in-one-ml==0.0.3"
      ],
      "execution_count": null,
      "outputs": [
        {
          "output_type": "stream",
          "text": [
            "Looking in indexes: https://test.pypi.org/simple/\n",
            "Requirement already satisfied: all-in-one-ml==0.0.3 in /usr/local/lib/python3.6/dist-packages (0.0.3)\n",
            "Requirement already satisfied: pandas in /usr/local/lib/python3.6/dist-packages (from all-in-one-ml==0.0.3) (1.1.3)\n",
            "Requirement already satisfied: seaborn in /usr/local/lib/python3.6/dist-packages (from all-in-one-ml==0.0.3) (0.11.0)\n",
            "Requirement already satisfied: numpy in /usr/local/lib/python3.6/dist-packages (from all-in-one-ml==0.0.3) (1.18.5)\n",
            "Requirement already satisfied: sklearn in /usr/local/lib/python3.6/dist-packages (from all-in-one-ml==0.0.3) (0.0)\n",
            "Requirement already satisfied: matplotlib in /usr/local/lib/python3.6/dist-packages (from all-in-one-ml==0.0.3) (3.2.2)\n",
            "Requirement already satisfied: keras in /usr/local/lib/python3.6/dist-packages (from all-in-one-ml==0.0.3) (2.4.3)\n",
            "Requirement already satisfied: pytz>=2017.2 in /usr/local/lib/python3.6/dist-packages (from pandas->all-in-one-ml==0.0.3) (2018.9)\n",
            "Requirement already satisfied: python-dateutil>=2.7.3 in /usr/local/lib/python3.6/dist-packages (from pandas->all-in-one-ml==0.0.3) (2.8.1)\n",
            "Requirement already satisfied: scipy>=1.0 in /usr/local/lib/python3.6/dist-packages (from seaborn->all-in-one-ml==0.0.3) (1.4.1)\n",
            "Requirement already satisfied: scikit-learn in /usr/local/lib/python3.6/dist-packages (from sklearn->all-in-one-ml==0.0.3) (0.22.2.post1)\n",
            "Requirement already satisfied: kiwisolver>=1.0.1 in /usr/local/lib/python3.6/dist-packages (from matplotlib->all-in-one-ml==0.0.3) (1.2.0)\n",
            "Requirement already satisfied: pyparsing!=2.0.4,!=2.1.2,!=2.1.6,>=2.0.1 in /usr/local/lib/python3.6/dist-packages (from matplotlib->all-in-one-ml==0.0.3) (2.4.7)\n",
            "Requirement already satisfied: cycler>=0.10 in /usr/local/lib/python3.6/dist-packages (from matplotlib->all-in-one-ml==0.0.3) (0.10.0)\n",
            "Requirement already satisfied: h5py in /usr/local/lib/python3.6/dist-packages (from keras->all-in-one-ml==0.0.3) (2.10.0)\n",
            "Requirement already satisfied: pyyaml in /usr/local/lib/python3.6/dist-packages (from keras->all-in-one-ml==0.0.3) (3.13)\n",
            "Requirement already satisfied: six>=1.5 in /usr/local/lib/python3.6/dist-packages (from python-dateutil>=2.7.3->pandas->all-in-one-ml==0.0.3) (1.15.0)\n",
            "Requirement already satisfied: joblib>=0.11 in /usr/local/lib/python3.6/dist-packages (from scikit-learn->sklearn->all-in-one-ml==0.0.3) (0.17.0)\n"
          ],
          "name": "stdout"
        }
      ]
    },
    {
      "cell_type": "code",
      "metadata": {
        "id": "ml8MbuC5gx18"
      },
      "source": [
        "from all_in_one_ml import beginner\n",
        "from sklearn import datasets\n",
        "import pandas as pd"
      ],
      "execution_count": null,
      "outputs": []
    },
    {
      "cell_type": "code",
      "metadata": {
        "id": "umWGVnt1oMd7"
      },
      "source": [
        "data = datasets.fetch_openml('tic-tac-toe')"
      ],
      "execution_count": null,
      "outputs": []
    },
    {
      "cell_type": "code",
      "metadata": {
        "id": "AmgKpVoor65x"
      },
      "source": [
        "df = pd.DataFrame(data.data,columns = data.feature_names)\n",
        "df['class'] = data.target"
      ],
      "execution_count": null,
      "outputs": []
    },
    {
      "cell_type": "code",
      "metadata": {
        "id": "OClnvuW3tSf7",
        "outputId": "ea6e7501-e5e7-45e6-c030-bf03b262eb0f",
        "colab": {
          "base_uri": "https://localhost:8080/",
          "height": 219
        }
      },
      "source": [
        "df.head()"
      ],
      "execution_count": null,
      "outputs": [
        {
          "output_type": "execute_result",
          "data": {
            "text/html": [
              "<div>\n",
              "<style scoped>\n",
              "    .dataframe tbody tr th:only-of-type {\n",
              "        vertical-align: middle;\n",
              "    }\n",
              "\n",
              "    .dataframe tbody tr th {\n",
              "        vertical-align: top;\n",
              "    }\n",
              "\n",
              "    .dataframe thead th {\n",
              "        text-align: right;\n",
              "    }\n",
              "</style>\n",
              "<table border=\"1\" class=\"dataframe\">\n",
              "  <thead>\n",
              "    <tr style=\"text-align: right;\">\n",
              "      <th></th>\n",
              "      <th>top-left-square</th>\n",
              "      <th>top-middle-square</th>\n",
              "      <th>top-right-square</th>\n",
              "      <th>middle-left-square</th>\n",
              "      <th>middle-middle-square</th>\n",
              "      <th>middle-right-square</th>\n",
              "      <th>bottom-left-square</th>\n",
              "      <th>bottom-middle-square</th>\n",
              "      <th>bottom-right-square</th>\n",
              "      <th>class</th>\n",
              "    </tr>\n",
              "  </thead>\n",
              "  <tbody>\n",
              "    <tr>\n",
              "      <th>0</th>\n",
              "      <td>2.0</td>\n",
              "      <td>2.0</td>\n",
              "      <td>2.0</td>\n",
              "      <td>2.0</td>\n",
              "      <td>1.0</td>\n",
              "      <td>1.0</td>\n",
              "      <td>2.0</td>\n",
              "      <td>1.0</td>\n",
              "      <td>1.0</td>\n",
              "      <td>positive</td>\n",
              "    </tr>\n",
              "    <tr>\n",
              "      <th>1</th>\n",
              "      <td>2.0</td>\n",
              "      <td>2.0</td>\n",
              "      <td>2.0</td>\n",
              "      <td>2.0</td>\n",
              "      <td>1.0</td>\n",
              "      <td>1.0</td>\n",
              "      <td>1.0</td>\n",
              "      <td>2.0</td>\n",
              "      <td>1.0</td>\n",
              "      <td>positive</td>\n",
              "    </tr>\n",
              "    <tr>\n",
              "      <th>2</th>\n",
              "      <td>2.0</td>\n",
              "      <td>2.0</td>\n",
              "      <td>2.0</td>\n",
              "      <td>2.0</td>\n",
              "      <td>1.0</td>\n",
              "      <td>1.0</td>\n",
              "      <td>1.0</td>\n",
              "      <td>1.0</td>\n",
              "      <td>2.0</td>\n",
              "      <td>positive</td>\n",
              "    </tr>\n",
              "    <tr>\n",
              "      <th>3</th>\n",
              "      <td>2.0</td>\n",
              "      <td>2.0</td>\n",
              "      <td>2.0</td>\n",
              "      <td>2.0</td>\n",
              "      <td>1.0</td>\n",
              "      <td>1.0</td>\n",
              "      <td>1.0</td>\n",
              "      <td>0.0</td>\n",
              "      <td>0.0</td>\n",
              "      <td>positive</td>\n",
              "    </tr>\n",
              "    <tr>\n",
              "      <th>4</th>\n",
              "      <td>2.0</td>\n",
              "      <td>2.0</td>\n",
              "      <td>2.0</td>\n",
              "      <td>2.0</td>\n",
              "      <td>1.0</td>\n",
              "      <td>1.0</td>\n",
              "      <td>0.0</td>\n",
              "      <td>1.0</td>\n",
              "      <td>0.0</td>\n",
              "      <td>positive</td>\n",
              "    </tr>\n",
              "  </tbody>\n",
              "</table>\n",
              "</div>"
            ],
            "text/plain": [
              "   top-left-square  top-middle-square  ...  bottom-right-square     class\n",
              "0              2.0                2.0  ...                  1.0  positive\n",
              "1              2.0                2.0  ...                  1.0  positive\n",
              "2              2.0                2.0  ...                  2.0  positive\n",
              "3              2.0                2.0  ...                  0.0  positive\n",
              "4              2.0                2.0  ...                  0.0  positive\n",
              "\n",
              "[5 rows x 10 columns]"
            ]
          },
          "metadata": {
            "tags": []
          },
          "execution_count": 35
        }
      ]
    },
    {
      "cell_type": "code",
      "metadata": {
        "id": "4sCHISIbtkqV"
      },
      "source": [
        "x = df.drop(columns=['class'])\n",
        "y = df['class']"
      ],
      "execution_count": null,
      "outputs": []
    },
    {
      "cell_type": "code",
      "metadata": {
        "id": "prY8p-M_kSp2",
        "outputId": "925bb46b-7fa2-41eb-81c5-a89cdcb9b5d7",
        "colab": {
          "base_uri": "https://localhost:8080/"
        }
      },
      "source": [
        "y_hot = beginner.one_hot(x,y,onlyoutcome=True)\n",
        "print(x,y_hot)"
      ],
      "execution_count": null,
      "outputs": [
        {
          "output_type": "stream",
          "text": [
            "     top-left-square  ...  bottom-right-square\n",
            "0                2.0  ...                  1.0\n",
            "1                2.0  ...                  1.0\n",
            "2                2.0  ...                  2.0\n",
            "3                2.0  ...                  0.0\n",
            "4                2.0  ...                  0.0\n",
            "..               ...  ...                  ...\n",
            "953              1.0  ...                  2.0\n",
            "954              1.0  ...                  2.0\n",
            "955              1.0  ...                  2.0\n",
            "956              1.0  ...                  2.0\n",
            "957              1.0  ...                  2.0\n",
            "\n",
            "[958 rows x 9 columns]      negative  positive\n",
            "0           0         1\n",
            "1           0         1\n",
            "2           0         1\n",
            "3           0         1\n",
            "4           0         1\n",
            "..        ...       ...\n",
            "953         1         0\n",
            "954         1         0\n",
            "955         1         0\n",
            "956         1         0\n",
            "957         1         0\n",
            "\n",
            "[958 rows x 2 columns]\n"
          ],
          "name": "stdout"
        }
      ]
    },
    {
      "cell_type": "code",
      "metadata": {
        "id": "Bi7EqujclEPp",
        "outputId": "f85c8563-9042-43c5-c236-1bea1c1c908b",
        "colab": {
          "base_uri": "https://localhost:8080/"
        }
      },
      "source": [
        "x_train,x_test,y_train,y_test = beginner.split_dataset(x,y_hot,0.2,8)"
      ],
      "execution_count": null,
      "outputs": [
        {
          "output_type": "stream",
          "text": [
            "(766, 9) (766, 2) (192, 9) (192, 2)\n"
          ],
          "name": "stdout"
        }
      ]
    },
    {
      "cell_type": "code",
      "metadata": {
        "id": "u2sDazVOlP0o",
        "outputId": "f602c8b0-ba5c-4f03-d15e-970fe9a5acd4",
        "colab": {
          "base_uri": "https://localhost:8080/",
          "height": 219
        }
      },
      "source": [
        "x_train.head()"
      ],
      "execution_count": null,
      "outputs": [
        {
          "output_type": "execute_result",
          "data": {
            "text/html": [
              "<div>\n",
              "<style scoped>\n",
              "    .dataframe tbody tr th:only-of-type {\n",
              "        vertical-align: middle;\n",
              "    }\n",
              "\n",
              "    .dataframe tbody tr th {\n",
              "        vertical-align: top;\n",
              "    }\n",
              "\n",
              "    .dataframe thead th {\n",
              "        text-align: right;\n",
              "    }\n",
              "</style>\n",
              "<table border=\"1\" class=\"dataframe\">\n",
              "  <thead>\n",
              "    <tr style=\"text-align: right;\">\n",
              "      <th></th>\n",
              "      <th>top-left-square</th>\n",
              "      <th>top-middle-square</th>\n",
              "      <th>top-right-square</th>\n",
              "      <th>middle-left-square</th>\n",
              "      <th>middle-middle-square</th>\n",
              "      <th>middle-right-square</th>\n",
              "      <th>bottom-left-square</th>\n",
              "      <th>bottom-middle-square</th>\n",
              "      <th>bottom-right-square</th>\n",
              "    </tr>\n",
              "  </thead>\n",
              "  <tbody>\n",
              "    <tr>\n",
              "      <th>372</th>\n",
              "      <td>1.0</td>\n",
              "      <td>1.0</td>\n",
              "      <td>2.0</td>\n",
              "      <td>2.0</td>\n",
              "      <td>2.0</td>\n",
              "      <td>1.0</td>\n",
              "      <td>2.0</td>\n",
              "      <td>1.0</td>\n",
              "      <td>2.0</td>\n",
              "    </tr>\n",
              "    <tr>\n",
              "      <th>619</th>\n",
              "      <td>0.0</td>\n",
              "      <td>0.0</td>\n",
              "      <td>1.0</td>\n",
              "      <td>0.0</td>\n",
              "      <td>0.0</td>\n",
              "      <td>1.0</td>\n",
              "      <td>2.0</td>\n",
              "      <td>2.0</td>\n",
              "      <td>2.0</td>\n",
              "    </tr>\n",
              "    <tr>\n",
              "      <th>644</th>\n",
              "      <td>2.0</td>\n",
              "      <td>2.0</td>\n",
              "      <td>1.0</td>\n",
              "      <td>1.0</td>\n",
              "      <td>1.0</td>\n",
              "      <td>1.0</td>\n",
              "      <td>2.0</td>\n",
              "      <td>0.0</td>\n",
              "      <td>2.0</td>\n",
              "    </tr>\n",
              "    <tr>\n",
              "      <th>153</th>\n",
              "      <td>2.0</td>\n",
              "      <td>1.0</td>\n",
              "      <td>1.0</td>\n",
              "      <td>2.0</td>\n",
              "      <td>2.0</td>\n",
              "      <td>1.0</td>\n",
              "      <td>0.0</td>\n",
              "      <td>0.0</td>\n",
              "      <td>2.0</td>\n",
              "    </tr>\n",
              "    <tr>\n",
              "      <th>4</th>\n",
              "      <td>2.0</td>\n",
              "      <td>2.0</td>\n",
              "      <td>2.0</td>\n",
              "      <td>2.0</td>\n",
              "      <td>1.0</td>\n",
              "      <td>1.0</td>\n",
              "      <td>0.0</td>\n",
              "      <td>1.0</td>\n",
              "      <td>0.0</td>\n",
              "    </tr>\n",
              "  </tbody>\n",
              "</table>\n",
              "</div>"
            ],
            "text/plain": [
              "     top-left-square  ...  bottom-right-square\n",
              "372              1.0  ...                  2.0\n",
              "619              0.0  ...                  2.0\n",
              "644              2.0  ...                  2.0\n",
              "153              2.0  ...                  2.0\n",
              "4                2.0  ...                  0.0\n",
              "\n",
              "[5 rows x 9 columns]"
            ]
          },
          "metadata": {
            "tags": []
          },
          "execution_count": 39
        }
      ]
    },
    {
      "cell_type": "code",
      "metadata": {
        "id": "ThF2tyIAlQY7",
        "outputId": "e0a454d6-b9c7-4d12-f5f5-436d3640281b",
        "colab": {
          "base_uri": "https://localhost:8080/",
          "height": 202
        }
      },
      "source": [
        "y_train.head()"
      ],
      "execution_count": null,
      "outputs": [
        {
          "output_type": "execute_result",
          "data": {
            "text/html": [
              "<div>\n",
              "<style scoped>\n",
              "    .dataframe tbody tr th:only-of-type {\n",
              "        vertical-align: middle;\n",
              "    }\n",
              "\n",
              "    .dataframe tbody tr th {\n",
              "        vertical-align: top;\n",
              "    }\n",
              "\n",
              "    .dataframe thead th {\n",
              "        text-align: right;\n",
              "    }\n",
              "</style>\n",
              "<table border=\"1\" class=\"dataframe\">\n",
              "  <thead>\n",
              "    <tr style=\"text-align: right;\">\n",
              "      <th></th>\n",
              "      <th>negative</th>\n",
              "      <th>positive</th>\n",
              "    </tr>\n",
              "  </thead>\n",
              "  <tbody>\n",
              "    <tr>\n",
              "      <th>372</th>\n",
              "      <td>0</td>\n",
              "      <td>1</td>\n",
              "    </tr>\n",
              "    <tr>\n",
              "      <th>619</th>\n",
              "      <td>0</td>\n",
              "      <td>1</td>\n",
              "    </tr>\n",
              "    <tr>\n",
              "      <th>644</th>\n",
              "      <td>1</td>\n",
              "      <td>0</td>\n",
              "    </tr>\n",
              "    <tr>\n",
              "      <th>153</th>\n",
              "      <td>0</td>\n",
              "      <td>1</td>\n",
              "    </tr>\n",
              "    <tr>\n",
              "      <th>4</th>\n",
              "      <td>0</td>\n",
              "      <td>1</td>\n",
              "    </tr>\n",
              "  </tbody>\n",
              "</table>\n",
              "</div>"
            ],
            "text/plain": [
              "     negative  positive\n",
              "372         0         1\n",
              "619         0         1\n",
              "644         1         0\n",
              "153         0         1\n",
              "4           0         1"
            ]
          },
          "metadata": {
            "tags": []
          },
          "execution_count": 40
        }
      ]
    },
    {
      "cell_type": "code",
      "metadata": {
        "id": "GSOINIB3lT3N",
        "outputId": "ca1af5fd-920f-42d4-829c-18e125c8ec9f",
        "colab": {
          "base_uri": "https://localhost:8080/"
        }
      },
      "source": [
        "model,history = beginner.build_compile_fit_model(x_train,y_train,'classification',30,3,[100,100,100],['relu','relu','relu'])"
      ],
      "execution_count": null,
      "outputs": [
        {
          "output_type": "stream",
          "text": [
            "Model: \"sequential_2\"\n",
            "_________________________________________________________________\n",
            "Layer (type)                 Output Shape              Param #   \n",
            "=================================================================\n",
            "dense_8 (Dense)              (None, 100)               1000      \n",
            "_________________________________________________________________\n",
            "dense_9 (Dense)              (None, 100)               10100     \n",
            "_________________________________________________________________\n",
            "dense_10 (Dense)             (None, 100)               10100     \n",
            "_________________________________________________________________\n",
            "dense_11 (Dense)             (None, 2)                 202       \n",
            "=================================================================\n",
            "Total params: 21,402\n",
            "Trainable params: 21,402\n",
            "Non-trainable params: 0\n",
            "_________________________________________________________________\n",
            "Epoch 1/30\n",
            "20/20 [==============================] - 0s 9ms/step - loss: 0.6542 - accuracy: 0.6176 - val_loss: 0.5720 - val_accuracy: 0.7143\n",
            "Epoch 2/30\n",
            "20/20 [==============================] - 0s 2ms/step - loss: 0.6044 - accuracy: 0.6846 - val_loss: 0.5493 - val_accuracy: 0.7532\n",
            "Epoch 3/30\n",
            "20/20 [==============================] - 0s 3ms/step - loss: 0.5722 - accuracy: 0.7173 - val_loss: 0.5142 - val_accuracy: 0.7727\n",
            "Epoch 4/30\n",
            "20/20 [==============================] - 0s 2ms/step - loss: 0.5518 - accuracy: 0.7353 - val_loss: 0.4924 - val_accuracy: 0.7662\n",
            "Epoch 5/30\n",
            "20/20 [==============================] - 0s 3ms/step - loss: 0.5584 - accuracy: 0.7124 - val_loss: 0.4895 - val_accuracy: 0.7922\n",
            "Epoch 6/30\n",
            "20/20 [==============================] - 0s 2ms/step - loss: 0.5449 - accuracy: 0.7451 - val_loss: 0.4671 - val_accuracy: 0.8052\n",
            "Epoch 7/30\n",
            "20/20 [==============================] - 0s 2ms/step - loss: 0.4920 - accuracy: 0.7647 - val_loss: 0.4565 - val_accuracy: 0.8052\n",
            "Epoch 8/30\n",
            "20/20 [==============================] - 0s 2ms/step - loss: 0.4664 - accuracy: 0.7859 - val_loss: 0.4534 - val_accuracy: 0.8052\n",
            "Epoch 9/30\n",
            "20/20 [==============================] - 0s 2ms/step - loss: 0.4269 - accuracy: 0.8382 - val_loss: 0.4254 - val_accuracy: 0.7987\n",
            "Epoch 10/30\n",
            "20/20 [==============================] - 0s 2ms/step - loss: 0.4011 - accuracy: 0.8252 - val_loss: 0.4519 - val_accuracy: 0.7857\n",
            "Epoch 11/30\n",
            "20/20 [==============================] - 0s 2ms/step - loss: 0.3808 - accuracy: 0.8366 - val_loss: 0.3922 - val_accuracy: 0.8312\n",
            "Epoch 12/30\n",
            "20/20 [==============================] - 0s 2ms/step - loss: 0.3863 - accuracy: 0.8415 - val_loss: 0.3812 - val_accuracy: 0.8117\n",
            "Epoch 13/30\n",
            "20/20 [==============================] - 0s 2ms/step - loss: 0.3310 - accuracy: 0.8824 - val_loss: 0.3673 - val_accuracy: 0.8247\n",
            "Epoch 14/30\n",
            "20/20 [==============================] - 0s 2ms/step - loss: 0.3212 - accuracy: 0.8709 - val_loss: 0.3285 - val_accuracy: 0.8377\n",
            "Epoch 15/30\n",
            "20/20 [==============================] - 0s 2ms/step - loss: 0.2942 - accuracy: 0.8873 - val_loss: 0.3455 - val_accuracy: 0.8377\n",
            "Epoch 16/30\n",
            "20/20 [==============================] - 0s 2ms/step - loss: 0.2826 - accuracy: 0.8856 - val_loss: 0.4165 - val_accuracy: 0.8377\n",
            "Epoch 17/30\n",
            "20/20 [==============================] - 0s 2ms/step - loss: 0.2640 - accuracy: 0.8840 - val_loss: 0.3192 - val_accuracy: 0.8701\n",
            "Epoch 18/30\n",
            "20/20 [==============================] - 0s 2ms/step - loss: 0.2454 - accuracy: 0.8873 - val_loss: 0.3028 - val_accuracy: 0.8506\n",
            "Epoch 19/30\n",
            "20/20 [==============================] - 0s 2ms/step - loss: 0.2266 - accuracy: 0.9183 - val_loss: 0.2886 - val_accuracy: 0.8766\n",
            "Epoch 20/30\n",
            "20/20 [==============================] - 0s 2ms/step - loss: 0.1991 - accuracy: 0.9232 - val_loss: 0.3502 - val_accuracy: 0.8766\n",
            "Epoch 21/30\n",
            "20/20 [==============================] - 0s 2ms/step - loss: 0.1925 - accuracy: 0.9199 - val_loss: 0.2959 - val_accuracy: 0.8831\n",
            "Epoch 22/30\n",
            "20/20 [==============================] - 0s 2ms/step - loss: 0.1809 - accuracy: 0.9248 - val_loss: 0.2867 - val_accuracy: 0.8831\n",
            "Epoch 23/30\n",
            "20/20 [==============================] - 0s 2ms/step - loss: 0.1598 - accuracy: 0.9428 - val_loss: 0.2349 - val_accuracy: 0.9156\n",
            "Epoch 24/30\n",
            "20/20 [==============================] - 0s 2ms/step - loss: 0.1525 - accuracy: 0.9444 - val_loss: 0.2895 - val_accuracy: 0.8896\n",
            "Epoch 25/30\n",
            "20/20 [==============================] - 0s 2ms/step - loss: 0.1636 - accuracy: 0.9428 - val_loss: 0.2458 - val_accuracy: 0.9091\n",
            "Epoch 26/30\n",
            "20/20 [==============================] - 0s 2ms/step - loss: 0.1227 - accuracy: 0.9641 - val_loss: 0.2562 - val_accuracy: 0.9091\n",
            "Epoch 27/30\n",
            "20/20 [==============================] - 0s 2ms/step - loss: 0.1052 - accuracy: 0.9771 - val_loss: 0.2607 - val_accuracy: 0.9026\n",
            "Epoch 28/30\n",
            "20/20 [==============================] - 0s 2ms/step - loss: 0.1032 - accuracy: 0.9673 - val_loss: 0.2509 - val_accuracy: 0.9091\n",
            "Epoch 29/30\n",
            "20/20 [==============================] - 0s 2ms/step - loss: 0.0897 - accuracy: 0.9804 - val_loss: 0.2216 - val_accuracy: 0.9351\n",
            "Epoch 30/30\n",
            "20/20 [==============================] - 0s 2ms/step - loss: 0.0803 - accuracy: 0.9837 - val_loss: 0.2501 - val_accuracy: 0.9156\n"
          ],
          "name": "stdout"
        }
      ]
    },
    {
      "cell_type": "code",
      "metadata": {
        "id": "54fMbUdcllD6",
        "outputId": "30baced0-1a5e-4cfb-950a-b0f1f2aa9504",
        "colab": {
          "base_uri": "https://localhost:8080/"
        }
      },
      "source": [
        "beginner.get_accuracy(x_test,y_test,model)"
      ],
      "execution_count": null,
      "outputs": [
        {
          "output_type": "stream",
          "text": [
            "6/6 [==============================] - 0s 2ms/step - loss: 0.3558 - accuracy: 0.8750\n"
          ],
          "name": "stdout"
        }
      ]
    },
    {
      "cell_type": "code",
      "metadata": {
        "id": "KgB2aWjBlwZX",
        "outputId": "f66906c8-7b9b-460d-ed62-40f9308284a5",
        "colab": {
          "base_uri": "https://localhost:8080/",
          "height": 295
        }
      },
      "source": [
        "beginner.accuracy_vs_valaccuracy(model,history,30)"
      ],
      "execution_count": null,
      "outputs": [
        {
          "output_type": "display_data",
          "data": {
            "image/png": "[encoded data removed]",
            "text/plain": [
              "<Figure size 432x288 with 1 Axes>"
            ]
          },
          "metadata": {
            "tags": [],
            "needs_background": "light"
          }
        }
      ]
    },
    {
      "cell_type": "code",
      "metadata": {
        "id": "PVkSCyqGlwTE",
        "outputId": "48cfe5e9-8602-44eb-c34c-f71e483454b3",
        "colab": {
          "base_uri": "https://localhost:8080/",
          "height": 295
        }
      },
      "source": [
        "beginner.loss_vs_valloss(model,history,30)"
      ],
      "execution_count": null,
      "outputs": [
        {
          "output_type": "display_data",
          "data": {
            "image/png": "[encoded data removed]",
            "text/plain": [
              "<Figure size 432x288 with 1 Axes>"
            ]
          },
          "metadata": {
            "tags": [],
            "needs_background": "light"
          }
        }
      ]
    }
  ]
}